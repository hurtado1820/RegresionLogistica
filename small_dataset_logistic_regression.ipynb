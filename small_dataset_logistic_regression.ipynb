{
  "nbformat": 4,
  "nbformat_minor": 0,
  "metadata": {
    "colab": {
      "name": "small_dataset_logistic_regression.ipynb",
      "provenance": [],
      "collapsed_sections": [],
      "include_colab_link": true
    },
    "kernelspec": {
      "display_name": "Python 3",
      "name": "python3"
    },
    "language_info": {
      "name": "python"
    }
  },
  "cells": [
    {
      "cell_type": "markdown",
      "metadata": {
        "id": "view-in-github",
        "colab_type": "text"
      },
      "source": [
        "<a href=\"https://colab.research.google.com/github/hurtado1820/RegresionLogistica/blob/main/small_dataset_logistic_regression.ipynb\" target=\"_parent\"><img src=\"https://colab.research.google.com/assets/colab-badge.svg\" alt=\"Open In Colab\"/></a>"
      ]
    },
    {
      "cell_type": "markdown",
      "metadata": {
        "id": "n03I5tGI89L9"
      },
      "source": [
        "# Regresión logística usando Scikit Learn"
      ]
    },
    {
      "cell_type": "markdown",
      "metadata": {
        "id": "GW6pA4pH_zqV"
      },
      "source": [
        "## Importar nuestras librerías"
      ]
    },
    {
      "cell_type": "code",
      "metadata": {
        "id": "vjNNP2zy85ZN"
      },
      "source": [
        "import numpy as np\n",
        "import matplotlib.pyplot as plt\n",
        "import seaborn as sns"
      ],
      "execution_count": null,
      "outputs": []
    },
    {
      "cell_type": "markdown",
      "metadata": {
        "id": "ZRYS7weYAfB2"
      },
      "source": [
        "## Cargar y explorar nuestro set de datos"
      ]
    },
    {
      "cell_type": "code",
      "metadata": {
        "id": "JchYFpjW9XgR"
      },
      "source": [
        "#Carga de un dataset de scikit learn\n",
        "from sklearn.datasets import load_digits\n",
        "digits = load_digits()"
      ],
      "execution_count": null,
      "outputs": []
    },
    {
      "cell_type": "code",
      "metadata": {
        "id": "LgbIsL8C9oNe",
        "colab": {
          "base_uri": "https://localhost:8080/"
        },
        "outputId": "4e2b8247-c525-4721-f779-02c3c6c34fed"
      },
      "source": [
        "#1797 imagenes con tamaño 8*8 pixeles\n",
        "digits.data.shape"
      ],
      "execution_count": null,
      "outputs": [
        {
          "output_type": "execute_result",
          "data": {
            "text/plain": [
              "(1797, 64)"
            ]
          },
          "metadata": {
            "tags": []
          },
          "execution_count": 3
        }
      ]
    },
    {
      "cell_type": "code",
      "metadata": {
        "id": "7qiOWIuG921j",
        "colab": {
          "base_uri": "https://localhost:8080/"
        },
        "outputId": "b05f5fd3-f64f-4ebf-9f23-b24cb8e3c7c0"
      },
      "source": [
        "#Una imagen \n",
        "digit_sample = digits.data[0]\n",
        "digit_sample"
      ],
      "execution_count": null,
      "outputs": [
        {
          "output_type": "execute_result",
          "data": {
            "text/plain": [
              "array([ 0.,  0.,  5., 13.,  9.,  1.,  0.,  0.,  0.,  0., 13., 15., 10.,\n",
              "       15.,  5.,  0.,  0.,  3., 15.,  2.,  0., 11.,  8.,  0.,  0.,  4.,\n",
              "       12.,  0.,  0.,  8.,  8.,  0.,  0.,  5.,  8.,  0.,  0.,  9.,  8.,\n",
              "        0.,  0.,  4., 11.,  0.,  1., 12.,  7.,  0.,  0.,  2., 14.,  5.,\n",
              "       10., 12.,  0.,  0.,  0.,  0.,  6., 13., 10.,  0.,  0.,  0.])"
            ]
          },
          "metadata": {
            "tags": []
          },
          "execution_count": 4
        }
      ]
    },
    {
      "cell_type": "code",
      "metadata": {
        "id": "FgOQMyFz-FqZ"
      },
      "source": [
        ""
      ],
      "execution_count": null,
      "outputs": []
    },
    {
      "cell_type": "markdown",
      "metadata": {
        "id": "vXN-z8UtApY4"
      },
      "source": [
        "Al ser un problema de aprendizaje supervisado contamos con datos ya etiquetados a los que queremos llegar como resultado."
      ]
    },
    {
      "cell_type": "code",
      "metadata": {
        "id": "gGpA2Am8-eT3",
        "colab": {
          "base_uri": "https://localhost:8080/"
        },
        "outputId": "95bd7958-45f8-4942-877c-43405d57a5ce"
      },
      "source": [
        "#Etiquetas de imagenes\n",
        "digits.target.shape"
      ],
      "execution_count": null,
      "outputs": [
        {
          "output_type": "execute_result",
          "data": {
            "text/plain": [
              "(1797,)"
            ]
          },
          "metadata": {
            "tags": []
          },
          "execution_count": 5
        }
      ]
    },
    {
      "cell_type": "code",
      "metadata": {
        "id": "SQfVX8X6_S89",
        "colab": {
          "base_uri": "https://localhost:8080/"
        },
        "outputId": "2d142c68-6db3-43c7-ad9b-a2e2fab9197e"
      },
      "source": [
        "digits.target[0]"
      ],
      "execution_count": null,
      "outputs": [
        {
          "output_type": "execute_result",
          "data": {
            "text/plain": [
              "0"
            ]
          },
          "metadata": {
            "tags": []
          },
          "execution_count": 6
        }
      ]
    },
    {
      "cell_type": "markdown",
      "metadata": {
        "id": "YSOXTPI6BCkT"
      },
      "source": [
        "## Graficando nuestra imagen"
      ]
    },
    {
      "cell_type": "code",
      "metadata": {
        "id": "-NacLrZP-5v4",
        "colab": {
          "base_uri": "https://localhost:8080/"
        },
        "outputId": "660182c7-fc95-47fa-fc8d-33766ef84846"
      },
      "source": [
        "#Organizar imagen como cuadricula 8*8\n",
        "digit_reshaped = digit_sample.reshape(8,8)\n",
        "digit_reshaped"
      ],
      "execution_count": null,
      "outputs": [
        {
          "output_type": "execute_result",
          "data": {
            "text/plain": [
              "array([[ 0.,  0.,  5., 13.,  9.,  1.,  0.,  0.],\n",
              "       [ 0.,  0., 13., 15., 10., 15.,  5.,  0.],\n",
              "       [ 0.,  3., 15.,  2.,  0., 11.,  8.,  0.],\n",
              "       [ 0.,  4., 12.,  0.,  0.,  8.,  8.,  0.],\n",
              "       [ 0.,  5.,  8.,  0.,  0.,  9.,  8.,  0.],\n",
              "       [ 0.,  4., 11.,  0.,  1., 12.,  7.,  0.],\n",
              "       [ 0.,  2., 14.,  5., 10., 12.,  0.,  0.],\n",
              "       [ 0.,  0.,  6., 13., 10.,  0.,  0.,  0.]])"
            ]
          },
          "metadata": {
            "tags": []
          },
          "execution_count": 7
        }
      ]
    },
    {
      "cell_type": "code",
      "metadata": {
        "colab": {
          "base_uri": "https://localhost:8080/",
          "height": 282
        },
        "id": "YrZE6eAlFQu8",
        "outputId": "ee4b03fb-59cd-4701-f03e-c6a6c6c2b966"
      },
      "source": [
        "plt.imshow(digit_reshaped)"
      ],
      "execution_count": null,
      "outputs": [
        {
          "output_type": "execute_result",
          "data": {
            "text/plain": [
              "<matplotlib.image.AxesImage at 0x7f89b2e6a490>"
            ]
          },
          "metadata": {
            "tags": []
          },
          "execution_count": 8
        },
        {
          "output_type": "display_data",
          "data": {
            "image/png": "[encoded data removed]",
            "text/plain": [
              "<Figure size 432x288 with 1 Axes>"
            ]
          },
          "metadata": {
            "tags": [],
            "needs_background": "light"
          }
        }
      ]
    },
    {
      "cell_type": "markdown",
      "metadata": {
        "id": "Phj-3TdsCzXK"
      },
      "source": [
        "## Graficando varias imagenes"
      ]
    },
    {
      "cell_type": "code",
      "metadata": {
        "id": "V6Vw1ytE_jcN",
        "colab": {
          "base_uri": "https://localhost:8080/"
        },
        "outputId": "edd5beae-44ea-4277-d4d9-d2b5abf49626"
      },
      "source": [
        "#zip es un metodo que crea una dupla de valores de lo que indiquemos\n",
        "numbers_sample = list(zip(digits.data[30:40],digits.target[30:40]))\n",
        "np.array(numbers_sample).shape"
      ],
      "execution_count": null,
      "outputs": [
        {
          "output_type": "stream",
          "text": [
            "/usr/local/lib/python3.7/dist-packages/ipykernel_launcher.py:3: VisibleDeprecationWarning: Creating an ndarray from ragged nested sequences (which is a list-or-tuple of lists-or-tuples-or ndarrays with different lengths or shapes) is deprecated. If you meant to do this, you must specify 'dtype=object' when creating the ndarray\n",
            "  This is separate from the ipykernel package so we can avoid doing imports until\n"
          ],
          "name": "stderr"
        },
        {
          "output_type": "execute_result",
          "data": {
            "text/plain": [
              "(10, 2)"
            ]
          },
          "metadata": {
            "tags": []
          },
          "execution_count": 9
        }
      ]
    },
    {
      "cell_type": "code",
      "metadata": {
        "id": "Jo2ArpNFDYaU",
        "colab": {
          "base_uri": "https://localhost:8080/",
          "height": 155
        },
        "outputId": "d757f07e-0251-4f8c-8503-e966c1bde297"
      },
      "source": [
        "#Definir tamaño imagenes\n",
        "plt.figure(figsize=(30,30))\n",
        "for index, (image,label) in enumerate(numbers_sample):\n",
        "  digit_reshaped = image.reshape(8,8)\n",
        "  #Dentro del mismo gráfico crear diferentes mini gráficas\n",
        "  plt.subplot(1,len(numbers_sample), index+1)\n",
        "  plt.imshow(digit_reshaped)\n",
        "  #Titulo a la gráfica\n",
        "  #string formateado\n",
        "  plt.title(f'Label:{label}')\n"
      ],
      "execution_count": null,
      "outputs": [
        {
          "output_type": "display_data",
          "data": {
            "image/png": "[encoded data removed]",
            "text/plain": [
              "<Figure size 2160x2160 with 10 Axes>"
            ]
          },
          "metadata": {
            "tags": [],
            "needs_background": "light"
          }
        }
      ]
    },
    {
      "cell_type": "markdown",
      "metadata": {
        "id": "loTJw67BGw4b"
      },
      "source": [
        "## Fase de entrenamiento\n",
        "\n"
      ]
    },
    {
      "cell_type": "markdown",
      "metadata": {
        "id": "lZmSiSYaM8YB"
      },
      "source": [
        "### 1. Dividiendo nuestro set de datos en entrenamiento y pruebas"
      ]
    },
    {
      "cell_type": "code",
      "metadata": {
        "id": "AvbfYQprG0jF",
        "colab": {
          "base_uri": "https://localhost:8080/"
        },
        "outputId": "9886e09d-1667-42d2-890a-ed7cfe2a544c"
      },
      "source": [
        "from sklearn.model_selection import train_test_split \n",
        "x_train, x_test, y_train, y_test = train_test_split(digits.data, digits.target, test_size=0.2, random_state=42)\n",
        "print(\"Len train: \",len(x_train))\n",
        "print(\"Len test: \",len(x_test))"
      ],
      "execution_count": null,
      "outputs": [
        {
          "output_type": "stream",
          "text": [
            "Len train:  1437\n",
            "Len test:  360\n"
          ],
          "name": "stdout"
        }
      ]
    },
    {
      "cell_type": "markdown",
      "metadata": {
        "id": "7wlIbGnBNEy5"
      },
      "source": [
        "### 2. Importando nuestro modelo"
      ]
    },
    {
      "cell_type": "code",
      "metadata": {
        "id": "kyWa7IhUHX-I"
      },
      "source": [
        "from sklearn.linear_model import LogisticRegression"
      ],
      "execution_count": null,
      "outputs": []
    },
    {
      "cell_type": "markdown",
      "metadata": {
        "id": "w-o0oe2HNNU8"
      },
      "source": [
        "### 3. Creando la instancia de nuestro modelo\n",
        "\n",
        "Creamos nuestro pipeline de entrenamiento. En modelos complicados (regresión logística o redes neuronales) se deben estandarizar los datos para que sean más eficientes y rápidos"
      ]
    },
    {
      "cell_type": "markdown",
      "metadata": {
        "id": "NiQ3tW8iVW9o"
      },
      "source": [
        "Un pipeline es la forma en que tratamos nuestros datos para poder ser entrenados"
      ]
    },
    {
      "cell_type": "code",
      "metadata": {
        "id": "ywgXPxQcHcNC"
      },
      "source": [
        "from sklearn.pipeline import make_pipeline\n",
        "from sklearn.preprocessing import StandardScaler\n",
        "\n",
        "#Todos los datos que entren antes de la regresión, primero aplicar escalamiento\n",
        "#Escalamos nuestros datos y luego hacemos el entrenamiento\n",
        "pipe = make_pipeline(StandardScaler(), LogisticRegression())"
      ],
      "execution_count": null,
      "outputs": []
    },
    {
      "cell_type": "markdown",
      "metadata": {
        "id": "1zfeVIYVNT0D"
      },
      "source": [
        "### 4. Entrenando nuestro modelo \n",
        "\n"
      ]
    },
    {
      "cell_type": "markdown",
      "metadata": {
        "id": "G2NAIDxNNfF7"
      },
      "source": [
        "Estandariza nuestros datos y después entrena el modelo"
      ]
    },
    {
      "cell_type": "code",
      "metadata": {
        "id": "aDMcy_txHybr",
        "colab": {
          "base_uri": "https://localhost:8080/"
        },
        "outputId": "911327e1-584c-46ee-ea50-90637406d1f7"
      },
      "source": [
        "pipe.fit(x_train, y_train)"
      ],
      "execution_count": null,
      "outputs": [
        {
          "output_type": "execute_result",
          "data": {
            "text/plain": [
              "Pipeline(memory=None,\n",
              "         steps=[('standardscaler',\n",
              "                 StandardScaler(copy=True, with_mean=True, with_std=True)),\n",
              "                ('logisticregression',\n",
              "                 LogisticRegression(C=1.0, class_weight=None, dual=False,\n",
              "                                    fit_intercept=True, intercept_scaling=1,\n",
              "                                    l1_ratio=None, max_iter=100,\n",
              "                                    multi_class='auto', n_jobs=None,\n",
              "                                    penalty='l2', random_state=None,\n",
              "                                    solver='lbfgs', tol=0.0001, verbose=0,\n",
              "                                    warm_start=False))],\n",
              "         verbose=False)"
            ]
          },
          "metadata": {
            "tags": []
          },
          "execution_count": 14
        }
      ]
    },
    {
      "cell_type": "markdown",
      "metadata": {
        "id": "ht67Wc80Nlfm"
      },
      "source": [
        "## Evaluando nuestro modelo\n",
        "\n",
        "La regresión logística con Scikit-Learn usa por defecto la precisión como métrica de evaluación del modelo. La presición se define como: \n",
        "\n",
        "$${\\text{Precisión}=\\frac{\\text{Número de predicciones correctas}}{\\text{Número total de predicciones}}}$$"
      ]
    },
    {
      "cell_type": "code",
      "metadata": {
        "id": "imlfDSeAPopM",
        "colab": {
          "base_uri": "https://localhost:8080/"
        },
        "outputId": "49bb978c-691c-4144-d837-01dbd7bfe9b3"
      },
      "source": [
        "x_test"
      ],
      "execution_count": null,
      "outputs": [
        {
          "output_type": "execute_result",
          "data": {
            "text/plain": [
              "array([[ 0.,  0.,  0., ..., 14.,  5.,  0.],\n",
              "       [ 0.,  0., 11., ...,  1.,  0.,  0.],\n",
              "       [ 0.,  0.,  8., ...,  8.,  0.,  0.],\n",
              "       ...,\n",
              "       [ 0.,  0.,  7., ..., 10.,  0.,  0.],\n",
              "       [ 0.,  0.,  7., ..., 16.,  4.,  0.],\n",
              "       [ 0.,  0., 14., ...,  5.,  0.,  0.]])"
            ]
          },
          "metadata": {
            "tags": []
          },
          "execution_count": 21
        }
      ]
    },
    {
      "cell_type": "code",
      "metadata": {
        "id": "eAn2890XPumj",
        "colab": {
          "base_uri": "https://localhost:8080/"
        },
        "outputId": "debff73b-20b1-4f9c-d229-f9fe7d96dedc"
      },
      "source": [
        "y_test"
      ],
      "execution_count": null,
      "outputs": [
        {
          "output_type": "execute_result",
          "data": {
            "text/plain": [
              "array([6, 9, 3, 7, 2, 1, 5, 2, 5, 2, 1, 9, 4, 0, 4, 2, 3, 7, 8, 8, 4, 3,\n",
              "       9, 7, 5, 6, 3, 5, 6, 3, 4, 9, 1, 4, 4, 6, 9, 4, 7, 6, 6, 9, 1, 3,\n",
              "       6, 1, 3, 0, 6, 5, 5, 1, 9, 5, 6, 0, 9, 0, 0, 1, 0, 4, 5, 2, 4, 5,\n",
              "       7, 0, 7, 5, 9, 5, 5, 4, 7, 0, 4, 5, 5, 9, 9, 0, 2, 3, 8, 0, 6, 4,\n",
              "       4, 9, 1, 2, 8, 3, 5, 2, 9, 0, 4, 4, 4, 3, 5, 3, 1, 3, 5, 9, 4, 2,\n",
              "       7, 7, 4, 4, 1, 9, 2, 7, 8, 7, 2, 6, 9, 4, 0, 7, 2, 7, 5, 8, 7, 5,\n",
              "       7, 7, 0, 6, 6, 4, 2, 8, 0, 9, 4, 6, 9, 9, 6, 9, 0, 3, 5, 6, 6, 0,\n",
              "       6, 4, 3, 9, 3, 9, 7, 2, 9, 0, 4, 5, 3, 6, 5, 9, 9, 8, 4, 2, 1, 3,\n",
              "       7, 7, 2, 2, 3, 9, 8, 0, 3, 2, 2, 5, 6, 9, 9, 4, 1, 5, 4, 2, 3, 6,\n",
              "       4, 8, 5, 9, 5, 7, 8, 9, 4, 8, 1, 5, 4, 4, 9, 6, 1, 8, 6, 0, 4, 5,\n",
              "       2, 7, 4, 6, 4, 5, 6, 0, 3, 2, 3, 6, 7, 1, 5, 1, 4, 7, 6, 8, 8, 5,\n",
              "       5, 1, 6, 2, 8, 8, 9, 9, 7, 6, 2, 2, 2, 3, 4, 8, 8, 3, 6, 0, 9, 7,\n",
              "       7, 0, 1, 0, 4, 5, 1, 5, 3, 6, 0, 4, 1, 0, 0, 3, 6, 5, 9, 7, 3, 5,\n",
              "       5, 9, 9, 8, 5, 3, 3, 2, 0, 5, 8, 3, 4, 0, 2, 4, 6, 4, 3, 4, 5, 0,\n",
              "       5, 2, 1, 3, 1, 4, 1, 1, 7, 0, 1, 5, 2, 1, 2, 8, 7, 0, 6, 4, 8, 8,\n",
              "       5, 1, 8, 4, 5, 8, 7, 9, 8, 5, 0, 6, 2, 0, 7, 9, 8, 9, 5, 2, 7, 7,\n",
              "       1, 8, 7, 4, 3, 8, 3, 5])"
            ]
          },
          "metadata": {
            "tags": []
          },
          "execution_count": 22
        }
      ]
    },
    {
      "cell_type": "code",
      "metadata": {
        "id": "ip0bbyy7Lhbj",
        "colab": {
          "base_uri": "https://localhost:8080/"
        },
        "outputId": "4ff9c92e-e7d9-4783-b386-7d48c951c36a"
      },
      "source": [
        "score = pipe.score(x_test, y_test)\n",
        "score"
      ],
      "execution_count": null,
      "outputs": [
        {
          "output_type": "execute_result",
          "data": {
            "text/plain": [
              "0.9722222222222222"
            ]
          },
          "metadata": {
            "tags": []
          },
          "execution_count": 15
        }
      ]
    },
    {
      "cell_type": "markdown",
      "metadata": {
        "id": "Civqza-9Nqrr"
      },
      "source": [
        "## Haciendo una predicción con nuestro modelo"
      ]
    },
    {
      "cell_type": "code",
      "metadata": {
        "id": "dEHcZ8N9LnaO",
        "colab": {
          "base_uri": "https://localhost:8080/"
        },
        "outputId": "2b444a4d-31cd-49e6-8fa0-624b28bfc693"
      },
      "source": [
        "#Prueba\n",
        "guinea_pig = x_test[0]\n",
        "pipe.predict(guinea_pig.reshape(1,-1))"
      ],
      "execution_count": null,
      "outputs": [
        {
          "output_type": "execute_result",
          "data": {
            "text/plain": [
              "array([6])"
            ]
          },
          "metadata": {
            "tags": []
          },
          "execution_count": 16
        }
      ]
    },
    {
      "cell_type": "code",
      "metadata": {
        "id": "-m6h6Ri2MACQ",
        "colab": {
          "base_uri": "https://localhost:8080/",
          "height": 282
        },
        "outputId": "5597abfc-1fad-4b98-91d5-47e58566156f"
      },
      "source": [
        "#Comprobación\n",
        "plt.imshow(guinea_pig.reshape(8,8))"
      ],
      "execution_count": null,
      "outputs": [
        {
          "output_type": "execute_result",
          "data": {
            "text/plain": [
              "<matplotlib.image.AxesImage at 0x7f89a8d01210>"
            ]
          },
          "metadata": {
            "tags": []
          },
          "execution_count": 17
        },
        {
          "output_type": "display_data",
          "data": {
            "image/png": "[encoded data removed]",
            "text/plain": [
              "<Figure size 432x288 with 1 Axes>"
            ]
          },
          "metadata": {
            "tags": [],
            "needs_background": "light"
          }
        }
      ]
    },
    {
      "cell_type": "code",
      "metadata": {
        "id": "3H3dgO2ER-DE",
        "colab": {
          "base_uri": "https://localhost:8080/"
        },
        "outputId": "1f7a4a7d-140f-4d12-b4aa-b6a2897d6594"
      },
      "source": [
        "#Predicciones a manera global\n",
        "predictions = pipe.predict(x_test)\n",
        "predictions"
      ],
      "execution_count": null,
      "outputs": [
        {
          "output_type": "execute_result",
          "data": {
            "text/plain": [
              "array([6, 9, 3, 7, 2, 1, 5, 2, 5, 2, 1, 9, 4, 0, 4, 2, 3, 7, 8, 8, 4, 3,\n",
              "       9, 7, 5, 6, 3, 5, 6, 3, 4, 9, 1, 4, 4, 6, 9, 4, 7, 6, 6, 9, 1, 3,\n",
              "       6, 1, 3, 0, 6, 5, 5, 1, 3, 5, 6, 0, 9, 0, 0, 1, 0, 4, 5, 2, 4, 5,\n",
              "       7, 0, 7, 5, 9, 9, 5, 4, 7, 0, 4, 5, 5, 9, 9, 0, 2, 3, 8, 0, 6, 4,\n",
              "       4, 9, 1, 2, 8, 3, 5, 2, 9, 0, 4, 4, 4, 3, 5, 3, 1, 3, 5, 9, 4, 2,\n",
              "       7, 7, 4, 4, 1, 9, 2, 7, 8, 7, 2, 6, 9, 4, 0, 7, 2, 7, 5, 8, 7, 5,\n",
              "       7, 9, 0, 6, 6, 4, 2, 8, 0, 9, 4, 6, 9, 9, 6, 9, 0, 5, 5, 6, 6, 0,\n",
              "       6, 4, 3, 9, 3, 8, 7, 2, 9, 0, 4, 5, 3, 6, 5, 9, 9, 8, 4, 2, 1, 3,\n",
              "       7, 7, 2, 2, 3, 9, 8, 0, 3, 2, 2, 5, 6, 9, 9, 4, 1, 5, 4, 2, 3, 6,\n",
              "       4, 8, 5, 9, 5, 7, 8, 9, 4, 8, 1, 5, 4, 4, 9, 6, 1, 8, 6, 0, 4, 5,\n",
              "       2, 7, 1, 6, 4, 5, 6, 0, 3, 2, 3, 6, 7, 1, 9, 1, 4, 7, 6, 5, 8, 5,\n",
              "       5, 1, 5, 2, 8, 8, 9, 9, 7, 6, 2, 2, 2, 3, 4, 8, 8, 3, 6, 0, 9, 7,\n",
              "       7, 0, 1, 0, 4, 5, 1, 5, 3, 6, 0, 4, 1, 0, 0, 3, 6, 5, 9, 7, 3, 5,\n",
              "       5, 9, 9, 8, 5, 3, 3, 2, 0, 5, 8, 3, 4, 0, 2, 4, 6, 4, 3, 4, 5, 0,\n",
              "       5, 2, 1, 3, 1, 4, 1, 1, 7, 0, 1, 5, 2, 1, 2, 8, 7, 0, 6, 4, 8, 8,\n",
              "       5, 1, 8, 4, 5, 8, 7, 9, 8, 6, 0, 6, 2, 0, 7, 9, 8, 9, 5, 2, 7, 7,\n",
              "       1, 8, 7, 4, 3, 8, 3, 5])"
            ]
          },
          "metadata": {
            "tags": []
          },
          "execution_count": 18
        }
      ]
    },
    {
      "cell_type": "markdown",
      "metadata": {
        "id": "wAZCJvHrPfJr"
      },
      "source": [
        "## Creando y graficando una matriz de confusión \n",
        "\n",
        "Una matriz de confusión es una forma de visualizar el desempeño de nuestro algoritmo comparando el valor actual de la etiqueta vs el de la predicción realizada por el modelo."
      ]
    },
    {
      "cell_type": "code",
      "metadata": {
        "id": "0rb0ZMnnPjXF",
        "colab": {
          "base_uri": "https://localhost:8080/"
        },
        "outputId": "20f8462a-d28c-4397-8137-b94850ec5be4"
      },
      "source": [
        "from sklearn import metrics\n",
        "#Creacion matriz de confusion\n",
        "cm = metrics.confusion_matrix(y_test, predictions)\n",
        "cm"
      ],
      "execution_count": null,
      "outputs": [
        {
          "output_type": "execute_result",
          "data": {
            "text/plain": [
              "array([[33,  0,  0,  0,  0,  0,  0,  0,  0,  0],\n",
              "       [ 0, 28,  0,  0,  0,  0,  0,  0,  0,  0],\n",
              "       [ 0,  0, 33,  0,  0,  0,  0,  0,  0,  0],\n",
              "       [ 0,  0,  0, 33,  0,  1,  0,  0,  0,  0],\n",
              "       [ 0,  1,  0,  0, 45,  0,  0,  0,  0,  0],\n",
              "       [ 0,  0,  0,  0,  0, 44,  1,  0,  0,  2],\n",
              "       [ 0,  0,  0,  0,  0,  1, 34,  0,  0,  0],\n",
              "       [ 0,  0,  0,  0,  0,  0,  0, 33,  0,  1],\n",
              "       [ 0,  0,  0,  0,  0,  1,  0,  0, 29,  0],\n",
              "       [ 0,  0,  0,  1,  0,  0,  0,  0,  1, 38]])"
            ]
          },
          "metadata": {
            "tags": []
          },
          "execution_count": 19
        }
      ]
    },
    {
      "cell_type": "code",
      "metadata": {
        "id": "rX79xpfISLv6",
        "colab": {
          "base_uri": "https://localhost:8080/",
          "height": 547
        },
        "outputId": "ddd53407-ddfd-46dc-dca8-f841fac90f0a"
      },
      "source": [
        "#Mapa de calor con seaborn\n",
        "plt.figure(figsize=(9,9))\n",
        "sns.heatmap(cm, annot=True, linewidths=.5, square=True, cmap='Blues_r')\n",
        "plt.title(f'Puntaje de presicion: {score}', fontsize=15)\n",
        "plt.xlabel('Valor de prediccion')\n",
        "plt.ylabel('Valor actual')"
      ],
      "execution_count": null,
      "outputs": [
        {
          "output_type": "execute_result",
          "data": {
            "text/plain": [
              "Text(60.0, 0.5, 'Valor actual')"
            ]
          },
          "metadata": {
            "tags": []
          },
          "execution_count": 20
        },
        {
          "output_type": "display_data",
          "data": {
            "image/png": "[encoded data removed]",
            "text/plain": [
              "<Figure size 648x648 with 2 Axes>"
            ]
          },
          "metadata": {
            "tags": [],
            "needs_background": "light"
          }
        }
      ]
    }
  ]
}